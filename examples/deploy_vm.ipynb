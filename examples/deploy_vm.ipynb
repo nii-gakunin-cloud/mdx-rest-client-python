{
 "cells": [
  {
   "cell_type": "markdown",
   "metadata": {
    "lc_cell_meme": {
     "current": "14d34282-ac0e-11ec-a2a8-005056b02367-3-c993-a671-dc85",
     "next": "32e9d710-adc9-11ec-9d19-005056b02673-2-2b18-8cd2",
     "previous": null
    }
   },
   "source": [
    "# mdx REST Client for Python 使用例\n",
    "\n",
    "この Notebook では、mdx REST API にアクセスするためのPythonクライアントライブラリを使用し、mdx仮想マシンの作成と、仮想マシンに対する各種操作を行います。"
   ]
  },
  {
   "cell_type": "markdown",
   "metadata": {
    "lc_cell_meme": {
     "current": "32e9d710-adc9-11ec-9d19-005056b02673-2-2b18-8cd2",
     "next": "c1f75fb8-adc9-11ec-9d19-005056b02673-2-c117-3f2f",
     "previous": "14d34282-ac0e-11ec-a2a8-005056b02367-3-c993-a671-dc85"
    }
   },
   "source": [
    "## 準備\n",
    "\n",
    "1. mdx REST API 認証トークン設定\n",
    "2. mdx VM にSSHログインするためのキーペア作成\n",
    "3. mdx の REST API エンドポイントに接続できることの確認"
   ]
  },
  {
   "cell_type": "markdown",
   "metadata": {
    "lc_cell_meme": {
     "current": "c1f75fb8-adc9-11ec-9d19-005056b02673-2-c117-3f2f",
     "next": "c1f76346-adc9-11ec-9d19-005056b02673-2-fca5-32b7",
     "previous": "32e9d710-adc9-11ec-9d19-005056b02673-2-2b18-8cd2"
    }
   },
   "source": [
    "### mdx REST API 認証トークン設定\n",
    "\n",
    "- mdx REST API 認証トークンは、[mdxユーザポータル](https://oprpl.mdx.jp/) の「トークン発行」により取得する。\n",
    "  * 「トークン発行」は、ユーザポータル画面右上にあるユーザ名をクリックすると表示される。"
   ]
  },
  {
   "cell_type": "code",
   "execution_count": null,
   "metadata": {
    "lc_cell_meme": {
     "current": "c1f76346-adc9-11ec-9d19-005056b02673-2-fca5-32b7",
     "next": "0a10b70e-adca-11ec-9d19-005056b02673-2-549c-1d2c",
     "previous": "c1f75fb8-adc9-11ec-9d19-005056b02673-2-c117-3f2f"
    },
    "lc_wrapper": {}
   },
   "outputs": [],
   "source": [
    "# mdx REST API 認証トークン設定\n",
    "from getpass import getpass\n",
    "mdx_token = getpass()"
   ]
  },
  {
   "cell_type": "markdown",
   "metadata": {
    "lc_cell_meme": {
     "current": "0a10b70e-adca-11ec-9d19-005056b02673-2-549c-1d2c",
     "next": "c1f76652-adc9-11ec-9d19-005056b02673-2-a957-06bb",
     "previous": "c1f76346-adc9-11ec-9d19-005056b02673-2-fca5-32b7"
    }
   },
   "source": [
    "### mdx VM への SSH ログイン用キーペア作成\n",
    "\n",
    "- mdx VM デプロイ時の設定項目に含まれる公開鍵を用意する。"
   ]
  },
  {
   "cell_type": "code",
   "execution_count": null,
   "metadata": {
    "lc_cell_meme": {
     "current": "c1f76652-adc9-11ec-9d19-005056b02673-2-a957-06bb",
     "next": "0a10ba6a-adca-11ec-9d19-005056b02673-2-fa5b-4fab",
     "previous": "0a10b70e-adca-11ec-9d19-005056b02673-2-549c-1d2c"
    },
    "lc_wrapper": {}
   },
   "outputs": [],
   "source": [
    "# ssh用キーペア作成\n",
    "!mkdir -p -m 700 ~/.ssh\n",
    "!test -f ~/.ssh/id_rsa || ssh-keygen -t rsa -f ~/.ssh/id_rsa -N \"\""
   ]
  },
  {
   "cell_type": "markdown",
   "metadata": {
    "lc_cell_meme": {
     "current": "0a10ba6a-adca-11ec-9d19-005056b02673-2-fa5b-4fab",
     "next": "78c8efd0-1621-11ed-8151-005056b02cbe",
     "previous": "c1f76652-adc9-11ec-9d19-005056b02673-2-a957-06bb"
    }
   },
   "source": [
    "### mdx REST API エンドポイント接続確認\n",
    "\n",
    "- HTTPステータスコード 200 が返ることを確認する。"
   ]
  },
  {
   "cell_type": "code",
   "execution_count": null,
   "metadata": {
    "lc_cell_meme": {
     "current": "78c8efd0-1621-11ed-8151-005056b02cbe",
     "next": "0a10bd80-adca-11ec-9d19-005056b02673-2-1434-9737",
     "previous": "0a10ba6a-adca-11ec-9d19-005056b02673-2-fa5b-4fab"
    },
    "lc_wrapper": {}
   },
   "outputs": [],
   "source": [
    "# デフォルトのresolverがIPv6のアドレスを返すことにより以降のAPIで接続不可の場合があるため、以下のコードを実行しておく。\n",
    "def use_ipv4_only():\n",
    "    import socket\n",
    "    old_getaddrinfo = socket.getaddrinfo\n",
    "    def new_getaddrinfo(*args, **kwargs):\n",
    "        responses = old_getaddrinfo(*args, **kwargs)\n",
    "        return [response\n",
    "                for response in responses\n",
    "                if response[0] == socket.AF_INET]\n",
    "    socket.getaddrinfo = new_getaddrinfo\n",
    "\n",
    "use_ipv4_only()"
   ]
  },
  {
   "cell_type": "code",
   "execution_count": null,
   "metadata": {
    "lc_cell_meme": {
     "current": "0a10bd80-adca-11ec-9d19-005056b02673-2-1434-9737",
     "next": "864f5bca-1636-11ed-8151-005056b02cbe",
     "previous": "78c8efd0-1621-11ed-8151-005056b02cbe"
    },
    "lc_wrapper": {}
   },
   "outputs": [],
   "source": [
    "!curl https://oprpl.mdx.jp -w '%{http_code}\\n' -o /dev/null -s"
   ]
  },
  {
   "cell_type": "markdown",
   "metadata": {
    "lc_cell_meme": {
     "current": "864f5bca-1636-11ed-8151-005056b02cbe",
     "next": "15977038-1637-11ed-8151-005056b02cbe",
     "previous": "0a10bd80-adca-11ec-9d19-005056b02673-2-1434-9737"
    }
   },
   "source": [
    "### （必要に応じて）Pythonパッケージ追加\n",
    "\n",
    "- mdx VMのデプロイなど時間がかかる処理において、セル実行中の経過時間を表示するライブラリをインストールする。\n",
    "  - <https://pypi.org/project/jupyter-autotime/>"
   ]
  },
  {
   "cell_type": "code",
   "execution_count": null,
   "metadata": {
    "lc_cell_meme": {
     "current": "15977038-1637-11ed-8151-005056b02cbe",
     "next": "0a10bede-adca-11ec-9d19-005056b02673-2-2a44-86ee",
     "previous": "864f5bca-1636-11ed-8151-005056b02cbe"
    },
    "lc_wrapper": {}
   },
   "outputs": [],
   "source": [
    "!pip install jupyter-autotime"
   ]
  },
  {
   "cell_type": "markdown",
   "metadata": {
    "lc_cell_meme": {
     "current": "0a10bede-adca-11ec-9d19-005056b02673-2-2a44-86ee",
     "next": "b2a3ef1c-1468-11ed-8151-005056b02cbe",
     "previous": "15977038-1637-11ed-8151-005056b02cbe"
    }
   },
   "source": [
    "## mdx 仮想マシンの作成\n",
    "\n",
    "1. mdx REST Client for Python ライブラリの読み込み\n",
    "2. mdx VM作成に必要なパラメータ設定\n",
    "3. mdx VMデプロイ実行"
   ]
  },
  {
   "cell_type": "markdown",
   "metadata": {
    "lc_cell_meme": {
     "current": "b2a3ef1c-1468-11ed-8151-005056b02cbe",
     "next": "1924fb0e-146a-11ed-8151-005056b02cbe",
     "previous": "0a10bede-adca-11ec-9d19-005056b02673-2-2a44-86ee"
    }
   },
   "source": [
    "### mdx REST Client for Python ライブラリの読み込み\n",
    "\n",
    "- 以下の .py ファイルを配置したディレクトリに対するモジュール検索パスが設定されていること。\n",
    "  * `mdx_ext.py`\n",
    "  * `mdx_lib.py`"
   ]
  },
  {
   "cell_type": "code",
   "execution_count": 26,
   "metadata": {
    "lc_cell_meme": {
     "current": "1924fb0e-146a-11ed-8151-005056b02cbe",
     "next": "52021940-adca-11ec-9d19-005056b02673-2-887d-59c1",
     "previous": "b2a3ef1c-1468-11ed-8151-005056b02cbe"
    },
    "lc_wrapper": {}
   },
   "outputs": [],
   "source": [
    "# mdx_{ext,lib}.py ファイルのパスを取得\n",
    "import os\n",
    "import sys\n",
    "mdx_lib_path = os.path.join(os.path.dirname(os.path.abspath('__file__')), '../src')\n",
    "\n",
    "# モジュール検索パスを追加\n",
    "sys.path.append(mdx_lib_path)"
   ]
  },
  {
   "cell_type": "code",
   "execution_count": 27,
   "metadata": {
    "lc_cell_meme": {
     "current": "52021940-adca-11ec-9d19-005056b02673-2-887d-59c1",
     "next": "52021b52-adca-11ec-9d19-005056b02673-2-863b-d6de",
     "previous": "1924fb0e-146a-11ed-8151-005056b02cbe"
    },
    "lc_wrapper": {}
   },
   "outputs": [],
   "source": [
    "from mdx_ext import MdxResourceExt\n",
    "mdx = MdxResourceExt(mdx_token)"
   ]
  },
  {
   "cell_type": "markdown",
   "metadata": {
    "lc_cell_meme": {
     "current": "52021b52-adca-11ec-9d19-005056b02673-2-863b-d6de",
     "next": "cb9c891c-161f-11ed-8151-005056b02cbe",
     "previous": "52021940-adca-11ec-9d19-005056b02673-2-887d-59c1"
    }
   },
   "source": [
    "### mdx VM作成に必要なパラメータ設定\n",
    "\n",
    "- プロジェクトID\n",
    "- ネットワークセグメントID\n",
    "- sshログインのための公開鍵"
   ]
  },
  {
   "cell_type": "markdown",
   "metadata": {
    "lc_cell_meme": {
     "current": "cb9c891c-161f-11ed-8151-005056b02cbe",
     "next": "52021bca-adca-11ec-9d19-005056b02673-2-957e-e33d",
     "previous": "52021b52-adca-11ec-9d19-005056b02673-2-863b-d6de"
    }
   },
   "source": [
    "自身が所属している（利用可能な）mdxのプロジェクト情報を確認する。"
   ]
  },
  {
   "cell_type": "code",
   "execution_count": null,
   "metadata": {
    "lc_cell_meme": {
     "current": "52021bca-adca-11ec-9d19-005056b02673-2-957e-e33d",
     "next": "c04dc8ee-1621-11ed-8151-005056b02cbe",
     "previous": "cb9c891c-161f-11ed-8151-005056b02cbe"
    },
    "lc_wrapper": {}
   },
   "outputs": [],
   "source": [
    "import json\n",
    "projects = mdx.get_assigned_projects()\n",
    "print(json.dumps(projects[0][\"projects\"], indent=2))"
   ]
  },
  {
   "cell_type": "markdown",
   "metadata": {
    "lc_cell_meme": {
     "current": "c04dc8ee-1621-11ed-8151-005056b02cbe",
     "next": "998b7e14-adca-11ec-9d19-005056b02673-2-01b5-05cb",
     "previous": "52021bca-adca-11ec-9d19-005056b02673-2-957e-e33d"
    }
   },
   "source": [
    "以降のmdx操作対象とする「プロジェクト名」 (`name`) を設定する。"
   ]
  },
  {
   "cell_type": "code",
   "execution_count": null,
   "metadata": {
    "lc_cell_meme": {
     "current": "998b7e14-adca-11ec-9d19-005056b02673-2-01b5-05cb",
     "next": "96e5b646-1622-11ed-8151-005056b02cbe",
     "previous": "c04dc8ee-1621-11ed-8151-005056b02cbe"
    },
    "lc_wrapper": {}
   },
   "outputs": [],
   "source": [
    "project_name = ''\n",
    "mdx.set_current_project_by_name(project_name)"
   ]
  },
  {
   "cell_type": "markdown",
   "metadata": {
    "lc_cell_meme": {
     "current": "96e5b646-1622-11ed-8151-005056b02cbe",
     "next": "3f52a2e2-1477-11ed-8151-005056b02cbe",
     "previous": "998b7e14-adca-11ec-9d19-005056b02673-2-01b5-05cb"
    }
   },
   "source": [
    "操作対象として設定したプロジェクト情報を確認する。"
   ]
  },
  {
   "cell_type": "code",
   "execution_count": null,
   "metadata": {
    "lc_cell_meme": {
     "current": "3f52a2e2-1477-11ed-8151-005056b02cbe",
     "next": "de6bcbea-1622-11ed-8151-005056b02cbe-1-cbf8",
     "previous": "96e5b646-1622-11ed-8151-005056b02cbe"
    },
    "lc_wrapper": {}
   },
   "outputs": [],
   "source": [
    "print(json.dumps(mdx.get_current_project(), indent=2))"
   ]
  },
  {
   "cell_type": "markdown",
   "metadata": {
    "lc_cell_meme": {
     "current": "de6bcbea-1622-11ed-8151-005056b02cbe-1-cbf8",
     "execution_end_time": "2022-08-07T07:31:01.013581Z",
     "next": "25f40428-1623-11ed-8151-005056b02cbe",
     "previous": "3f52a2e2-1477-11ed-8151-005056b02cbe"
    },
    "lc_wrapper": {}
   },
   "source": [
    "プロジェクトで利用可能なットワークセグメントのリストを取得し、先頭のIDを設定する。"
   ]
  },
  {
   "cell_type": "code",
   "execution_count": null,
   "metadata": {
    "lc_cell_meme": {
     "current": "25f40428-1623-11ed-8151-005056b02cbe",
     "next": "b5022410-1623-11ed-8151-005056b02cbe",
     "previous": "de6bcbea-1622-11ed-8151-005056b02cbe-1-cbf8"
    },
    "lc_wrapper": {}
   },
   "outputs": [],
   "source": [
    "segments = mdx.get_segments()\n",
    "print(json.dumps(segments, indent=2))\n",
    "\n",
    "segment_id = mdx.get_segments()[0][\"uuid\"]\n",
    "print(segment_id)"
   ]
  },
  {
   "cell_type": "markdown",
   "metadata": {
    "lc_cell_meme": {
     "current": "b5022410-1623-11ed-8151-005056b02cbe",
     "next": "f50a0c30-161e-11ed-8151-005056b02cbe",
     "previous": "25f40428-1623-11ed-8151-005056b02cbe"
    }
   },
   "source": [
    "sshログインのための公開鍵ファイルの内容を設定する"
   ]
  },
  {
   "cell_type": "code",
   "execution_count": null,
   "metadata": {
    "lc_cell_meme": {
     "current": "f50a0c30-161e-11ed-8151-005056b02cbe",
     "next": "998b827e-adca-11ec-9d19-005056b02673-2-8505-caa2",
     "previous": "b5022410-1623-11ed-8151-005056b02cbe"
    },
    "lc_wrapper": {}
   },
   "outputs": [],
   "source": [
    "import os\n",
    "with open(os.path.expanduser('~/.ssh/id_rsa.pub')) as f:\n",
    "    ssh_shared_key = f.read()\n",
    "print(ssh_shared_key)"
   ]
  },
  {
   "cell_type": "markdown",
   "metadata": {
    "lc_cell_meme": {
     "current": "998b827e-adca-11ec-9d19-005056b02673-2-8505-caa2",
     "next": "f13acf7a-1625-11ed-8151-005056b02cbe",
     "previous": "f50a0c30-161e-11ed-8151-005056b02cbe"
    }
   },
   "source": [
    "### mdx VMデプロイ\n",
    "\n",
    "- ここでは、仮想マシンテンプレートとして「推奨版、東京大学制作、20220412-2043版」を使用する。\n",
    "  * 利用可能な仮想マシンテンプレートの一覧は、 `get_vm_catalogs()` により確認できる。\n",
    "- [ハードウェアのカスタマイズ項目](https://docs.mdx.jp/ja/main/create_vm.html#deploy-settings)は、以下の内容で設定する。\n",
    "  * 仮想マシン名: `\"rest-client-example_0001\"` **（プロジェクト内で重複しないこと）**\n",
    "  * パックタイプ: `\"cpu\"`\n",
    "  * パック数: `3`\n",
    "  * 仮想ディスク(GB): `40`\n",
    "  * ストレージネットワーク: `\"portgroup\"`"
   ]
  },
  {
   "cell_type": "markdown",
   "metadata": {
    "lc_cell_meme": {
     "current": "f13acf7a-1625-11ed-8151-005056b02cbe",
     "next": "f13ad376-1625-11ed-8151-005056b02cbe",
     "previous": "998b827e-adca-11ec-9d19-005056b02673-2-8505-caa2"
    }
   },
   "source": [
    "mdxVMにIPv4アドレスが付与されるまで5分程度かかるため、実行中のセルの経過時間を表示するライブラリ `jupyter-autotime` 機能を有効化しておく。"
   ]
  },
  {
   "cell_type": "code",
   "execution_count": null,
   "metadata": {
    "lc_cell_meme": {
     "current": "f13ad376-1625-11ed-8151-005056b02cbe",
     "next": "80653e56-1626-11ed-8151-005056b02cbe",
     "previous": "f13acf7a-1625-11ed-8151-005056b02cbe"
    },
    "lc_wrapper": {}
   },
   "outputs": [],
   "source": [
    "%load_ext autotime"
   ]
  },
  {
   "cell_type": "markdown",
   "metadata": {
    "lc_cell_meme": {
     "current": "80653e56-1626-11ed-8151-005056b02cbe",
     "next": "c96a27a6-a69b-11ec-8db3-005056b02367-4-a794-ee5b-948a-14b2",
     "previous": "f13ad376-1625-11ed-8151-005056b02cbe"
    }
   },
   "source": [
    "VMのデプロイを実行する。デプロイ完了後、VM情報を出力する。"
   ]
  },
  {
   "cell_type": "code",
   "execution_count": null,
   "metadata": {
    "lc_cell_meme": {
     "current": "c96a27a6-a69b-11ec-8db3-005056b02367-4-a794-ee5b-948a-14b2",
     "next": "5d1ae6ec-1637-11ed-8151-005056b02cbe",
     "previous": "80653e56-1626-11ed-8151-005056b02cbe"
    },
    "lc_wrapper": {}
   },
   "outputs": [],
   "source": [
    "DEFAULT_CATALOG = \"16a41081-a1cf-428e-90d0-a147b3aa6fc2\"\n",
    "DEFAULT_TEMPLATE_NAME = \"UT-20220412-2043-ubuntu-2004-server\"\n",
    "\n",
    "vm_name = \"rest-client-example_0001\"\n",
    "\n",
    "mdx_spec = dict(\n",
    "    catalog=DEFAULT_CATALOG,\n",
    "    template_name=DEFAULT_TEMPLATE_NAME,\n",
    "    pack_num=3,\n",
    "    pack_type=\"cpu\",\n",
    "    disk_size=40,\n",
    "    gpu=\"0\",\n",
    "    network_adapters=[\n",
    "        dict(\n",
    "            adapter_number=1,\n",
    "            segment=segment_id\n",
    "        )\n",
    "    ],\n",
    "    shared_key=ssh_shared_key,\n",
    "    storage_network=\"portgroup\",\n",
    ")\n",
    "\n",
    "info = mdx.deploy_vm(vm_name, mdx_spec)\n",
    "\n",
    "print(json.dumps(info, indent=2))"
   ]
  },
  {
   "cell_type": "code",
   "execution_count": null,
   "metadata": {
    "lc_cell_meme": {
     "current": "5d1ae6ec-1637-11ed-8151-005056b02cbe",
     "next": "c7ed4c96-1626-11ed-8151-005056b02cbe-1-7d54",
     "previous": "c96a27a6-a69b-11ec-8db3-005056b02367-4-a794-ee5b-948a-14b2"
    },
    "lc_wrapper": {}
   },
   "outputs": [],
   "source": [
    "# jupyter-autotime を無効化\n",
    "%unload_ext autotime"
   ]
  },
  {
   "cell_type": "markdown",
   "metadata": {
    "lc_cell_meme": {
     "current": "c7ed4c96-1626-11ed-8151-005056b02cbe-1-7d54",
     "execution_end_time": "2022-08-07T07:59:06.325483Z",
     "next": "b687cc5e-abc5-11ec-a2a8-005056b02367-4-6a69-bb3c-21cd-5a43",
     "previous": "5d1ae6ec-1637-11ed-8151-005056b02cbe"
    },
    "lc_wrapper": {}
   },
   "source": [
    "VMに付与されたプライベートIPv4アドレス (先頭のアドレス) を取得する。"
   ]
  },
  {
   "cell_type": "code",
   "execution_count": null,
   "metadata": {
    "lc_cell_meme": {
     "current": "b687cc5e-abc5-11ec-a2a8-005056b02367-4-6a69-bb3c-21cd-5a43",
     "next": "704c6e86-adcb-11ec-9d19-005056b02673-2-f468-18cd",
     "previous": "c7ed4c96-1626-11ed-8151-005056b02cbe-1-7d54"
    },
    "lc_wrapper": {}
   },
   "outputs": [],
   "source": [
    "host_ip_address = info[\"service_networks\"][0][\"ipv4_address\"][0]\n",
    "host_ip_address"
   ]
  },
  {
   "cell_type": "markdown",
   "metadata": {
    "lc_cell_meme": {
     "current": "704c6e86-adcb-11ec-9d19-005056b02673-2-f468-18cd",
     "next": "109ccc2a-abcc-11ec-a2a8-005056b02367-4-7dd5-353c-4022-2ae3",
     "previous": "b687cc5e-abc5-11ec-a2a8-005056b02367-4-6a69-bb3c-21cd-5a43"
    }
   },
   "source": [
    "### mdx VMへの疎通確認"
   ]
  },
  {
   "cell_type": "code",
   "execution_count": null,
   "metadata": {
    "lc_cell_meme": {
     "current": "109ccc2a-abcc-11ec-a2a8-005056b02367-4-7dd5-353c-4022-2ae3",
     "next": "a4a67274-1637-11ed-8151-005056b02cbe",
     "previous": "704c6e86-adcb-11ec-9d19-005056b02673-2-f468-18cd"
    },
    "lc_wrapper": {},
    "scrolled": false
   },
   "outputs": [],
   "source": [
    "!ping -c 3 {host_ip_address}"
   ]
  },
  {
   "cell_type": "markdown",
   "metadata": {
    "lc_cell_meme": {
     "current": "a4a67274-1637-11ed-8151-005056b02cbe",
     "next": "5c035e62-1473-11ed-8151-005056b02cbe",
     "previous": "109ccc2a-abcc-11ec-a2a8-005056b02367-4-7dd5-353c-4022-2ae3"
    }
   },
   "source": [
    "### mdx VMへのSSHログイン確認\n",
    "\n",
    "- Jupyter Notebook の Terminal を開き、VMに付与されたIPv4アドレス `host_ip_address` に対してSSH公開鍵認証で接続する。\n",
    "- 仮想マシンテンプレート「推奨版、東京大学制作、20220412-2043版」におけるSSHログイン時の注意点は以下のとおり。\n",
    "  * 初回ログイン時にはOSのパスワード設定が求められる\n",
    "  * ログインユーザ名は `mdxuser`\n",
    "  * 秘密鍵は、VMデプロイ時に指定した公開鍵 `ssh_shared_key` に対応する鍵ファイルを使用する"
   ]
  },
  {
   "cell_type": "markdown",
   "metadata": {
    "lc_cell_meme": {
     "current": "5c035e62-1473-11ed-8151-005056b02cbe",
     "next": "4930cfca-1470-11ed-8151-005056b02cbe",
     "previous": "a4a67274-1637-11ed-8151-005056b02cbe"
    }
   },
   "source": [
    "## mdx 仮想マシンの各種操作"
   ]
  },
  {
   "cell_type": "markdown",
   "metadata": {
    "lc_cell_meme": {
     "current": "4930cfca-1470-11ed-8151-005056b02cbe",
     "next": "c1a95004-1474-11ed-8151-005056b02cbe",
     "previous": "5c035e62-1473-11ed-8151-005056b02cbe"
    }
   },
   "source": [
    "### 仮想マシンの状態を取得する"
   ]
  },
  {
   "cell_type": "code",
   "execution_count": null,
   "metadata": {
    "lc_cell_meme": {
     "current": "c1a95004-1474-11ed-8151-005056b02cbe",
     "next": "84ecb2e4-162e-11ed-8151-005056b02cbe",
     "previous": "4930cfca-1470-11ed-8151-005056b02cbe"
    },
    "lc_wrapper": {}
   },
   "outputs": [],
   "source": [
    "vm_info = mdx.get_vm_info(vm_name)\n",
    "print(json.dumps(info, indent=2))"
   ]
  },
  {
   "cell_type": "markdown",
   "metadata": {
    "lc_cell_meme": {
     "current": "84ecb2e4-162e-11ed-8151-005056b02cbe",
     "next": "4435dbea-162e-11ed-8151-005056b02cbe",
     "previous": "c1a95004-1474-11ed-8151-005056b02cbe"
    }
   },
   "source": [
    "### プロジェクトの仮想マシンのリストを取得する"
   ]
  },
  {
   "cell_type": "code",
   "execution_count": null,
   "metadata": {
    "lc_cell_meme": {
     "current": "4435dbea-162e-11ed-8151-005056b02cbe",
     "next": "4930d5a6-1470-11ed-8151-005056b02cbe",
     "previous": "84ecb2e4-162e-11ed-8151-005056b02cbe"
    },
    "lc_wrapper": {}
   },
   "outputs": [],
   "source": [
    "lst = mdx.get_vm_list()\n",
    "print(json.dumps(lst, indent=2))"
   ]
  },
  {
   "cell_type": "markdown",
   "metadata": {
    "lc_cell_meme": {
     "current": "4930d5a6-1470-11ed-8151-005056b02cbe",
     "next": "092f97da-1475-11ed-8151-005056b02cbe",
     "previous": "4435dbea-162e-11ed-8151-005056b02cbe"
    }
   },
   "source": [
    "### 仮想マシンをシャットダウンする"
   ]
  },
  {
   "cell_type": "code",
   "execution_count": null,
   "metadata": {
    "lc_cell_meme": {
     "current": "092f97da-1475-11ed-8151-005056b02cbe",
     "next": "90b8af7a-1470-11ed-8151-005056b02cbe",
     "previous": "4930d5a6-1470-11ed-8151-005056b02cbe"
    },
    "lc_wrapper": {}
   },
   "outputs": [],
   "source": [
    "mdx.power_shutdown_vm(vm_name, wait_for=True)"
   ]
  },
  {
   "cell_type": "markdown",
   "metadata": {
    "lc_cell_meme": {
     "current": "90b8af7a-1470-11ed-8151-005056b02cbe",
     "next": "50b7d9f0-1475-11ed-8151-005056b02cbe",
     "previous": "092f97da-1475-11ed-8151-005056b02cbe"
    }
   },
   "source": [
    "### 仮想マシンを削除する"
   ]
  },
  {
   "cell_type": "code",
   "execution_count": null,
   "metadata": {
    "lc_cell_meme": {
     "current": "50b7d9f0-1475-11ed-8151-005056b02cbe",
     "next": "9704c27a-162c-11ed-8151-005056b02cbe",
     "previous": "90b8af7a-1470-11ed-8151-005056b02cbe"
    },
    "lc_wrapper": {}
   },
   "outputs": [],
   "source": [
    "mdx.destroy_vm(vm_name, wait_for=True)"
   ]
  },
  {
   "cell_type": "markdown",
   "metadata": {
    "lc_cell_meme": {
     "current": "9704c27a-162c-11ed-8151-005056b02cbe",
     "next": "753db132-1628-11ed-8151-005056b02cbe",
     "previous": "50b7d9f0-1475-11ed-8151-005056b02cbe"
    }
   },
   "source": [
    "## （参考）仮想マシンテンプレート情報参照\n",
    "\n",
    "- 利用可能な仮想マシンテンプレートのリストは以下のように取得することができる。\n",
    "  - ユーザポータルでは REST API によるデプロイ時のパラメータとして必要な `catalog` (カタログID) および `template_name` (vCenter上の仮想マシンテンプレート名) を確認することができないため、 `get_vm_catalogs()` を用いて取得する。"
   ]
  },
  {
   "cell_type": "code",
   "execution_count": null,
   "metadata": {
    "lc_cell_meme": {
     "current": "753db132-1628-11ed-8151-005056b02cbe",
     "next": null,
     "previous": "9704c27a-162c-11ed-8151-005056b02cbe"
    },
    "lc_wrapper": {}
   },
   "outputs": [],
   "source": [
    "catalogs = mdx.get_vm_catalogs()\n",
    "print(json.dumps(catalogs[\"results\"], indent=2))"
   ]
  }
 ],
 "metadata": {
  "kernelspec": {
   "display_name": "Python 3",
   "language": "python",
   "name": "python3"
  },
  "language_info": {
   "file_extension": ".py",
   "mimetype": "text/x-python",
   "name": "python",
   "nbconvert_exporter": "python",
   "pygments_lexer": "ipython3",
   "version": "3.8.6"
  },
  "toc": {
   "base_numbering": 1,
   "nav_menu": {},
   "number_sections": true,
   "sideBar": true,
   "skip_h1_title": true,
   "title_cell": "Table of Contents",
   "title_sidebar": "Contents",
   "toc_cell": false,
   "toc_position": {},
   "toc_section_display": true,
   "toc_window_display": true
  }
 },
 "nbformat": 4,
 "nbformat_minor": 4
}
