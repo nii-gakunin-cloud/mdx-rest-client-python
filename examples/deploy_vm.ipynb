{
 "cells": [
  {
   "cell_type": "markdown",
   "metadata": {},
   "source": [
    "# mdx REST Client for Python 使用例\n",
    "\n",
    "この Notebook では、mdx REST API にアクセスするためのPythonクライアントライブラリを使用し、mdx仮想マシンの作成と、仮想マシンに対する各種操作を行います。"
   ]
  },
  {
   "cell_type": "markdown",
   "metadata": {},
   "source": [
    "## 準備\n",
    "\n",
    "1. mdx REST API 認証トークン設定\n",
    "2. mdx VM にSSHログインするためのキーペア作成\n",
    "3. mdx の REST API エンドポイントに接続できることの確認"
   ]
  },
  {
   "cell_type": "markdown",
   "metadata": {},
   "source": [
    "### mdx REST API 認証トークン設定\n",
    "\n",
    "- mdx REST API 認証トークンは、[mdxユーザポータル](https://oprpl.mdx.jp/) の「トークン発行」により取得する。\n",
    "  * 「トークン発行」は、ユーザポータル画面右上にあるユーザ名をクリックすると表示される。"
   ]
  },
  {
   "cell_type": "code",
   "execution_count": null,
   "metadata": {
    "lc_wrapper": {}
   },
   "outputs": [],
   "source": [
    "# mdx REST API 認証トークン設定\n",
    "from getpass import getpass\n",
    "mdx_token = getpass()"
   ]
  },
  {
   "cell_type": "markdown",
   "metadata": {},
   "source": [
    "### mdx VM への SSH ログイン用キーペア作成\n",
    "\n",
    "- mdx VM デプロイ時の設定項目に含まれる公開鍵を用意する。"
   ]
  },
  {
   "cell_type": "code",
   "execution_count": null,
   "metadata": {
    "lc_wrapper": {}
   },
   "outputs": [],
   "source": [
    "# ssh用キーペア作成\n",
    "!mkdir -p -m 700 ~/.ssh\n",
    "!test -f ~/.ssh/id_rsa || ssh-keygen -t rsa -f ~/.ssh/id_rsa -N \"\""
   ]
  },
  {
   "cell_type": "markdown",
   "metadata": {},
   "source": [
    "### mdx REST API エンドポイント接続確認\n",
    "\n",
    "- HTTPステータスコード 200 が返ることを確認する。"
   ]
  },
  {
   "cell_type": "code",
   "execution_count": null,
   "metadata": {
    "lc_wrapper": {}
   },
   "outputs": [],
   "source": [
    "# デフォルトのresolverがIPv6のアドレスを返すことにより以降のAPIで接続不可の場合があるため、以下のコードを実行しておく。\n",
    "def use_ipv4_only():\n",
    "    import socket\n",
    "    old_getaddrinfo = socket.getaddrinfo\n",
    "    def new_getaddrinfo(*args, **kwargs):\n",
    "        responses = old_getaddrinfo(*args, **kwargs)\n",
    "        return [response\n",
    "                for response in responses\n",
    "                if response[0] == socket.AF_INET]\n",
    "    socket.getaddrinfo = new_getaddrinfo\n",
    "\n",
    "use_ipv4_only()"
   ]
  },
  {
   "cell_type": "code",
   "execution_count": null,
   "metadata": {
    "lc_wrapper": {}
   },
   "outputs": [],
   "source": [
    "!curl https://oprpl.mdx.jp -w '%{http_code}\\n' -o /dev/null -s"
   ]
  },
  {
   "cell_type": "markdown",
   "metadata": {},
   "source": [
    "## mdx 仮想マシンの作成\n",
    "\n",
    "1. mdx REST Client for Python ライブラリの読み込み\n",
    "2. mdx VM作成に必要なパラメータ設定\n",
    "3. mdx VMデプロイ実行"
   ]
  },
  {
   "cell_type": "markdown",
   "metadata": {},
   "source": [
    "### mdx REST Client for Python ライブラリの読み込み"
   ]
  },
  {
   "cell_type": "code",
   "execution_count": null,
   "metadata": {
    "lc_wrapper": {}
   },
   "outputs": [],
   "source": [
    "from mdx.mdx_ext import MdxResourceExt\n",
    "mdx = MdxResourceExt(mdx_token)"
   ]
  },
  {
   "cell_type": "markdown",
   "metadata": {},
   "source": [
    "### mdx VM作成に必要なパラメータ設定\n",
    "\n",
    "- プロジェクトID\n",
    "- ネットワークセグメントID\n",
    "- sshログインのための公開鍵"
   ]
  },
  {
   "cell_type": "markdown",
   "metadata": {},
   "source": [
    "自身が所属している（利用可能な）mdxのプロジェクト情報を確認する。"
   ]
  },
  {
   "cell_type": "code",
   "execution_count": null,
   "metadata": {
    "lc_wrapper": {}
   },
   "outputs": [],
   "source": [
    "import json\n",
    "projects = mdx.get_assigned_projects()\n",
    "print(json.dumps(projects[0][\"projects\"], indent=2))"
   ]
  },
  {
   "cell_type": "markdown",
   "metadata": {},
   "source": [
    "以降のmdx操作対象とする「プロジェクト名」 (`name`) を設定する。"
   ]
  },
  {
   "cell_type": "code",
   "execution_count": null,
   "metadata": {
    "lc_wrapper": {}
   },
   "outputs": [],
   "source": [
    "project_name = ''\n",
    "mdx.set_current_project_by_name(project_name)"
   ]
  },
  {
   "cell_type": "markdown",
   "metadata": {},
   "source": [
    "操作対象として設定したプロジェクト情報を確認する。"
   ]
  },
  {
   "cell_type": "code",
   "execution_count": null,
   "metadata": {
    "lc_wrapper": {}
   },
   "outputs": [],
   "source": [
    "print(json.dumps(mdx.get_current_project(), indent=2))"
   ]
  },
  {
   "cell_type": "markdown",
   "metadata": {
    "lc_wrapper": {}
   },
   "source": [
    "プロジェクトで利用可能なットワークセグメントのリストを取得し、先頭のIDを設定する。"
   ]
  },
  {
   "cell_type": "code",
   "execution_count": null,
   "metadata": {
    "lc_wrapper": {}
   },
   "outputs": [],
   "source": [
    "segments = mdx.get_segments()\n",
    "print(json.dumps(segments, indent=2))\n",
    "\n",
    "segment_id = mdx.get_segments()[0][\"uuid\"]\n",
    "print(segment_id)"
   ]
  },
  {
   "cell_type": "markdown",
   "metadata": {},
   "source": [
    "sshログインのための公開鍵ファイルの内容を設定する"
   ]
  },
  {
   "cell_type": "code",
   "execution_count": null,
   "metadata": {
    "lc_wrapper": {}
   },
   "outputs": [],
   "source": [
    "import os\n",
    "with open(os.path.expanduser('~/.ssh/id_rsa.pub')) as f:\n",
    "    ssh_shared_key = f.read()\n",
    "print(ssh_shared_key)"
   ]
  },
  {
   "cell_type": "markdown",
   "metadata": {},
   "source": [
    "### mdx VMデプロイ\n",
    "\n",
    "- ここでは、仮想マシンテンプレートとして「推奨版、東京大学制作、20250205-1029版」を使用する。\n",
    "  * 利用可能な仮想マシンテンプレートの一覧は、 `get_vm_catalogs()` により確認できる。\n",
    "- [ハードウェアのカスタマイズ項目](https://docs.mdx.jp/ja/main/create_vm.html#deploy-settings)は、以下の内容で設定する。\n",
    "  * 仮想マシン名: `\"rest-client-example_0001\"` **（プロジェクト内で重複しないこと）**\n",
    "  * パックタイプ: `\"cpu\"`\n",
    "  * パック数: `3`\n",
    "  * 仮想ディスク(GB): `40`\n",
    "  * ストレージネットワーク: `\"portgroup\"`\n",
    "  * サービスレベル (スポット仮想マシン `spot` または起動保証仮想マシン `guarantee`) : `\"spot\"`"
   ]
  },
  {
   "cell_type": "markdown",
   "metadata": {},
   "source": [
    "VMのデプロイを実行する。デプロイ完了後、VM情報を出力する。"
   ]
  },
  {
   "cell_type": "code",
   "execution_count": null,
   "metadata": {
    "lc_wrapper": {}
   },
   "outputs": [],
   "source": [
    "DEFAULT_TEMPLATE_NAME = \"UT-20250205-1029-ubuntu-2204-server\"\n",
    "DEFAULT_CATALOG = \"32da6d82-bdca-405e-9209-62044bd92923\"\n",
    "vm_name = \"rest-client-example_0001\"\n",
    "\n",
    "mdx_spec = dict(\n",
    "    catalog=DEFAULT_CATALOG,\n",
    "    template_name=DEFAULT_TEMPLATE_NAME,\n",
    "    pack_num=3,\n",
    "    pack_type=\"cpu\",\n",
    "    disk_size=40,\n",
    "    gpu=\"0\",\n",
    "    network_adapters=[\n",
    "        dict(\n",
    "            adapter_number=1,\n",
    "            segment=segment_id\n",
    "        )\n",
    "    ],\n",
    "    shared_key=ssh_shared_key,\n",
    "    storage_network=\"portgroup\",\n",
    "    service_level=\"spot\",\n",
    ")\n",
    "\n",
    "info = mdx.deploy_vm(vm_name, mdx_spec)\n",
    "\n",
    "print(json.dumps(info, indent=2))"
   ]
  },
  {
   "cell_type": "markdown",
   "metadata": {
    "lc_wrapper": {}
   },
   "source": [
    "VMに付与されたプライベートIPv4アドレス (先頭のアドレス) を取得する。"
   ]
  },
  {
   "cell_type": "code",
   "execution_count": null,
   "metadata": {
    "lc_wrapper": {}
   },
   "outputs": [],
   "source": [
    "host_ip_address = info[\"service_networks\"][0][\"ipv4_address\"][0]\n",
    "host_ip_address"
   ]
  },
  {
   "cell_type": "markdown",
   "metadata": {},
   "source": [
    "### mdx VMへの疎通確認"
   ]
  },
  {
   "cell_type": "code",
   "execution_count": null,
   "metadata": {
    "lc_wrapper": {},
    "scrolled": false
   },
   "outputs": [],
   "source": [
    "!ping -c 3 {host_ip_address}"
   ]
  },
  {
   "cell_type": "markdown",
   "metadata": {},
   "source": [
    "### mdx VMへのSSHログイン確認\n",
    "\n",
    "- Jupyter Notebook の Terminal を開き、VMに付与されたIPv4アドレス `host_ip_address` に対してSSH公開鍵認証で接続する。\n",
    "- 仮想マシンテンプレート「推奨版、東京大学制作、20220412-2043版」におけるSSHログイン時の注意点は以下のとおり。\n",
    "  * 初回ログイン時にはOSのパスワード設定が求められる\n",
    "  * ログインユーザ名は `mdxuser`\n",
    "  * 秘密鍵は、VMデプロイ時に指定した公開鍵 `ssh_shared_key` に対応する鍵ファイルを使用する"
   ]
  },
  {
   "cell_type": "markdown",
   "metadata": {},
   "source": [
    "## mdx 仮想マシンの各種操作"
   ]
  },
  {
   "cell_type": "markdown",
   "metadata": {},
   "source": [
    "### 仮想マシンの状態を取得する"
   ]
  },
  {
   "cell_type": "code",
   "execution_count": null,
   "metadata": {
    "lc_wrapper": {}
   },
   "outputs": [],
   "source": [
    "vm_info = mdx.get_vm_info(vm_name)\n",
    "print(json.dumps(info, indent=2))"
   ]
  },
  {
   "cell_type": "markdown",
   "metadata": {},
   "source": [
    "### プロジェクトの仮想マシンのリストを取得する"
   ]
  },
  {
   "cell_type": "code",
   "execution_count": null,
   "metadata": {
    "lc_wrapper": {}
   },
   "outputs": [],
   "source": [
    "lst = mdx.get_vm_list()\n",
    "print(json.dumps(lst, indent=2))"
   ]
  },
  {
   "cell_type": "markdown",
   "metadata": {},
   "source": [
    "### 仮想マシンをシャットダウンする"
   ]
  },
  {
   "cell_type": "code",
   "execution_count": null,
   "metadata": {
    "lc_wrapper": {}
   },
   "outputs": [],
   "source": [
    "mdx.power_shutdown_vm(vm_name, wait_for=True)"
   ]
  },
  {
   "cell_type": "markdown",
   "metadata": {},
   "source": [
    "### 仮想マシンを削除する"
   ]
  },
  {
   "cell_type": "code",
   "execution_count": null,
   "metadata": {
    "lc_wrapper": {}
   },
   "outputs": [],
   "source": [
    "mdx.destroy_vm(vm_name, wait_for=True)"
   ]
  },
  {
   "cell_type": "markdown",
   "metadata": {},
   "source": [
    "## （参考）仮想マシンテンプレート情報参照\n",
    "\n",
    "- 利用可能な仮想マシンテンプレートのリストは以下のように取得することができる。\n",
    "  - ユーザポータルでは REST API によるデプロイ時のパラメータとして必要な `catalog` (カタログID) および `template_name` (vCenter上の仮想マシンテンプレート名) を確認することができないため、 `get_vm_catalogs()` を用いて取得する。"
   ]
  },
  {
   "cell_type": "code",
   "execution_count": null,
   "metadata": {
    "lc_wrapper": {}
   },
   "outputs": [],
   "source": [
    "catalogs = mdx.get_vm_catalogs()\n",
    "print(json.dumps(catalogs[\"results\"], indent=2))"
   ]
  }
 ],
 "metadata": {
  "kernelspec": {
   "display_name": "Python 3",
   "language": "python",
   "name": "python3"
  },
  "language_info": {
   "file_extension": ".py",
   "mimetype": "text/x-python",
   "name": "python",
   "nbconvert_exporter": "python",
   "pygments_lexer": "ipython3",
   "version": "3.8.6"
  },
  "toc": {
   "base_numbering": 1,
   "nav_menu": {},
   "number_sections": true,
   "sideBar": true,
   "skip_h1_title": true,
   "title_cell": "Table of Contents",
   "title_sidebar": "Contents",
   "toc_cell": false,
   "toc_position": {},
   "toc_section_display": true,
   "toc_window_display": true
  }
 },
 "nbformat": 4,
 "nbformat_minor": 4
}
