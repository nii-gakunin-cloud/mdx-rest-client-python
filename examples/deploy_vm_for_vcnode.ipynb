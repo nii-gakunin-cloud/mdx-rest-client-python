{
 "cells": [
  {
   "cell_type": "markdown",
   "metadata": {},
   "source": [
    "# VCノード用仮想マシンセットアップ\n",
    "\n",
    "この Notebook では、mdx REST API にアクセスするためのPythonクライアントライブラリを使用し、mdx仮想マシンの作成と、[ocs-template](https://github.com/nii-gakunin-cloud/ocs-templates)にてVCノードとして利用するためのセットアップを行います。"
   ]
  },
  {
   "cell_type": "markdown",
   "metadata": {},
   "source": [
    "## 準備\n",
    "\n",
    "1. mdx REST client for python インストール\n",
    "1. mdx REST API 認証トークン設定\n",
    "1. VCコントローラ 認証トークン設定\n",
    "1. mdx VM にSSHログインするためのキーペア作成\n",
    "1. mdx の REST API エンドポイントに接続できることの確認"
   ]
  },
  {
   "cell_type": "markdown",
   "metadata": {},
   "source": [
    "### mdx REST client for python インストール"
   ]
  },
  {
   "cell_type": "code",
   "execution_count": null,
   "metadata": {},
   "outputs": [],
   "source": [
    "!pip install --user git+https://github.com/nii-gakunin-cloud/mdx-rest-client-python.git"
   ]
  },
  {
   "cell_type": "markdown",
   "metadata": {},
   "source": [
    "### mdx REST API 認証トークン設定\n",
    "\n",
    "mdx REST API 認証トークンは、[mdxユーザポータル](https://oprpl.mdx.jp/) の「トークン発行」により取得します。  \n",
    "「トークン発行」は、ユーザポータル画面右上にあるユーザ名をクリックすると表示されます。"
   ]
  },
  {
   "cell_type": "code",
   "execution_count": null,
   "metadata": {
    "lc_wrapper": {}
   },
   "outputs": [],
   "source": [
    "# mdx REST API 認証トークン設定\n",
    "from getpass import getpass\n",
    "mdx_token = getpass()"
   ]
  },
  {
   "cell_type": "markdown",
   "metadata": {},
   "source": [
    "### VCコントローラ 認証トークン設定\n",
    "\n",
    "vcpsdkを利用してVCノードの設定を行うため、vcpsdkの公開鍵をノードに登録します。  \n",
    "以下のセルを実行し、トークンを入力します。  \n",
    "その後、トークンが正しいこと・VCコントローラが利用できることを確認します。"
   ]
  },
  {
   "cell_type": "code",
   "execution_count": null,
   "metadata": {},
   "outputs": [],
   "source": [
    "from getpass import getpass\n",
    "vcc_access_token = getpass()"
   ]
  },
  {
   "cell_type": "code",
   "execution_count": null,
   "metadata": {},
   "outputs": [],
   "source": [
    "from vcpsdk.vcpsdk import VcpSDK\n",
    "sdk = VcpSDK(vcc_access_token)\n",
    "sdk_pubkey = sdk.get_publickey()"
   ]
  },
  {
   "cell_type": "markdown",
   "metadata": {},
   "source": [
    "### パスワード設定\n",
    "\n",
    "OSのログインパスワードを設定します。  \n",
    "以下のセルを実行すると、ランダムなパスワードを設定します。  \n",
    "任意のパスワードを設定しても構いません。"
   ]
  },
  {
   "cell_type": "code",
   "execution_count": null,
   "metadata": {},
   "outputs": [],
   "source": [
    "import string\n",
    "import secrets\n",
    "alphabet = string.ascii_letters + string.digits\n",
    "randompassword = ''.join(secrets.choice(alphabet) for i in range(8))\n",
    "\n",
    "# 設定するOSパスワード\n",
    "# 任意の物に変更してください。変更しないランダムなパスワードが設定されるため、変数の内容を自身で別途保存してください。\n",
    "mdx_user_password = randompassword"
   ]
  },
  {
   "cell_type": "markdown",
   "metadata": {},
   "source": [
    "### mdx VM への SSH ログイン用キーペア作成\n",
    "\n",
    "mdx VM デプロイ時の設定項目に含まれる公開鍵を用意します。"
   ]
  },
  {
   "cell_type": "code",
   "execution_count": null,
   "metadata": {
    "lc_wrapper": {}
   },
   "outputs": [],
   "source": [
    "!mkdir -p -m 700 ~/.ssh\n",
    "!test -f ~/.ssh/id_ed25519 || ssh-keygen -t ed25519 -f ~/.ssh/id_ed25519 -N \"\""
   ]
  },
  {
   "cell_type": "markdown",
   "metadata": {},
   "source": [
    "### mdx の REST API エンドポイントに接続できることの確認\n",
    "\n",
    "デフォルトのresolverがIPv6のアドレスを返すことにより以降のAPIで接続不可の場合があるため、以下のコードを実行しておきます。  \n",
    "その後、HTTPステータスコード 200 が返ることを確認します。"
   ]
  },
  {
   "cell_type": "code",
   "execution_count": null,
   "metadata": {
    "lc_wrapper": {}
   },
   "outputs": [],
   "source": [
    "from mdx.mdx_ext import use_ipv4_only\n",
    "use_ipv4_only()"
   ]
  },
  {
   "cell_type": "code",
   "execution_count": null,
   "metadata": {
    "lc_wrapper": {}
   },
   "outputs": [],
   "source": [
    "!curl https://oprpl.mdx.jp -w '%{http_code}\\n' -o /dev/null -s"
   ]
  },
  {
   "cell_type": "markdown",
   "metadata": {},
   "source": [
    "## mdx 仮想マシンの作成\n",
    "\n",
    "1. mdx REST Client for Python ライブラリの読み込み\n",
    "2. mdx VM作成に必要なパラメータ設定\n",
    "3. mdx VMデプロイ実行"
   ]
  },
  {
   "cell_type": "markdown",
   "metadata": {},
   "source": [
    "### mdx REST Client for Python ライブラリの読み込み"
   ]
  },
  {
   "cell_type": "code",
   "execution_count": null,
   "metadata": {
    "lc_wrapper": {}
   },
   "outputs": [],
   "source": [
    "from mdx.mdx_ext import MdxResourceExt\n",
    "mdx = MdxResourceExt(mdx_token)"
   ]
  },
  {
   "cell_type": "markdown",
   "metadata": {},
   "source": [
    "### mdx VM作成に必要なパラメータ設定\n",
    "\n",
    "- プロジェクトID\n",
    "- ネットワークセグメントID\n",
    "- sshログインのための公開鍵"
   ]
  },
  {
   "cell_type": "markdown",
   "metadata": {},
   "source": [
    "自身が所属している（利用可能な）mdxのプロジェクト情報を確認します。"
   ]
  },
  {
   "cell_type": "code",
   "execution_count": null,
   "metadata": {
    "lc_wrapper": {}
   },
   "outputs": [],
   "source": [
    "import json\n",
    "projects = mdx.get_assigned_projects()\n",
    "print(json.dumps(projects[0][\"projects\"], indent=2))"
   ]
  },
  {
   "cell_type": "markdown",
   "metadata": {},
   "source": [
    "以降のmdx操作対象とする「プロジェクト名」 (`name`) を設定します。"
   ]
  },
  {
   "cell_type": "code",
   "execution_count": null,
   "metadata": {
    "lc_wrapper": {}
   },
   "outputs": [],
   "source": [
    "project_name = \n",
    "mdx.set_current_project_by_name(project_name)"
   ]
  },
  {
   "cell_type": "markdown",
   "metadata": {},
   "source": [
    "操作対象として設定したプロジェクト情報を確認します。"
   ]
  },
  {
   "cell_type": "code",
   "execution_count": null,
   "metadata": {
    "lc_wrapper": {}
   },
   "outputs": [],
   "source": [
    "print(json.dumps(mdx.get_current_project(), indent=2))"
   ]
  },
  {
   "cell_type": "markdown",
   "metadata": {
    "lc_wrapper": {}
   },
   "source": [
    "プロジェクトで利用可能なネットワークセグメントのリストを取得し、先頭のIDを設定します。"
   ]
  },
  {
   "cell_type": "code",
   "execution_count": null,
   "metadata": {
    "lc_wrapper": {}
   },
   "outputs": [],
   "source": [
    "segments = mdx.get_segments()\n",
    "print(json.dumps(segments, indent=2))\n",
    "\n",
    "segment_id = mdx.get_segments()[0][\"uuid\"]\n",
    "print(segment_id)"
   ]
  },
  {
   "cell_type": "markdown",
   "metadata": {},
   "source": [
    "sshログインのための公開鍵ファイルの内容を設定します。"
   ]
  },
  {
   "cell_type": "code",
   "execution_count": null,
   "metadata": {
    "lc_wrapper": {}
   },
   "outputs": [],
   "source": [
    "import os\n",
    "with open(os.path.expanduser('~/.ssh/id_ed25519.pub')) as f:\n",
    "    ssh_shared_key = f.read()\n",
    "print(ssh_shared_key)"
   ]
  },
  {
   "cell_type": "markdown",
   "metadata": {},
   "source": [
    "### mdx VMデプロイ\n",
    "\n",
    "仮想マシンを起動します。デプロイ完了後、VM情報を出力します。  "
   ]
  },
  {
   "cell_type": "code",
   "execution_count": null,
   "metadata": {
    "lc_wrapper": {}
   },
   "outputs": [],
   "source": [
    "# Ubuntu22.04イメージを使用します。\n",
    "DEFAULT_TEMPLATE_NAME = \"UT-20250205-1029-ubuntu-2204-server\"\n",
    "DEFAULT_CATALOG = \"32da6d82-bdca-405e-9209-62044bd92923\"\n",
    "# [1-1] のように範囲指定を行うと、指定した数仮想マシンが起動します。\n",
    "vm_name = \"vm-for-vcnode-[1-1]\"\n",
    "\n",
    "mdx_spec = dict(\n",
    "    catalog=DEFAULT_CATALOG,\n",
    "    template_name=DEFAULT_TEMPLATE_NAME,\n",
    "    pack_num=3,\n",
    "    pack_type=\"cpu\",\n",
    "    disk_size=40,\n",
    "    gpu=\"0\",\n",
    "    network_adapters=[\n",
    "        dict(\n",
    "            adapter_number=1,\n",
    "            segment=segment_id\n",
    "        )\n",
    "    ],\n",
    "    shared_key=ssh_shared_key,\n",
    "    storage_network=\"portgroup\",\n",
    "    service_level=\"spot\",\n",
    ")\n",
    "\n",
    "vm_infos = mdx.deploy_vm(vm_name, mdx_spec)\n",
    "print(json.dumps(vm_infos, indent=2, ensure_ascii=False))"
   ]
  },
  {
   "cell_type": "markdown",
   "metadata": {},
   "source": [
    "### VCノード用セットアップ\n",
    "\n",
    "各種セットアップ用スクリプトを定義しています。  \n",
    "以下のセルを実行することで、利用可能となります。"
   ]
  },
  {
   "cell_type": "code",
   "execution_count": null,
   "metadata": {},
   "outputs": [],
   "source": [
    "import pexpect\n",
    "import tempfile\n",
    "import subprocess\n",
    "\n",
    "mdx_change_addr_script = \"\"\"\n",
    "#!/bin/bash\n",
    "\n",
    "set -euo pipefail\n",
    "\n",
    "netif=ens160\n",
    "newaddr=$1\n",
    "\n",
    "dns1=`resolvectl dns ${netif} | awk '{print $4}'`\n",
    "dns2=`resolvectl dns ${netif} | awk '{print $5}'`\n",
    "defroute=`ip route list default | awk '{print $3}'`\n",
    "\n",
    "sudo chmod -R 600 /etc/netplan/\n",
    "\n",
    "echo \"DNS=${dns1}\" | sudo tee -a /etc/systemd/resolved.conf\n",
    "if [ -n \"${dns2}\" ]; then\n",
    "    echo \"FallbackDNS=${dns2}\" | sudo tee -a /etc/systemd/resolved.conf\n",
    "fi\n",
    "sudo systemctl restart systemd-resolved\n",
    "\n",
    "masklen=`ip addr show dev $netif | \\\n",
    "    awk '/inet / {i = index($2, \"/\"); print(substr($2, i+1));}'`\n",
    "sudo netplan set ethernets.${netif}.addresses=[${newaddr}/${masklen}]\n",
    "sudo netplan set ethernets.${netif}.routes=\"[{to: default, via: ${defroute} }]\"\n",
    "sudo netplan set ethernets.ens192.dhcp-identifier=mac\n",
    "sudo netplan set ethernets.ens192.dhcp4=true\n",
    "sudo rm -f /etc/netplan/mdx.yaml\n",
    "sudo netplan apply\n",
    "\"\"\"\n",
    "\n",
    "vcnode_setup_script = \"\"\"\n",
    "#!/bin/sh\n",
    "sudo apt-get -qq update\n",
    "sudo apt-get -qq install -y ca-certificates curl gnupg lsb-release\n",
    "curl -fsSL https://download.docker.com/linux/ubuntu/gpg | sudo gpg --dearmor -o /usr/share/keyrings/docker-archive-keyring.gpg\n",
    "echo \\\n",
    "  \"deb [arch=$(dpkg --print-architecture) signed-by=/usr/share/keyrings/docker-archive-keyring.gpg] https://download.docker.com/linux/ubuntu \\\n",
    "  $(lsb_release -cs) stable\" | sudo tee /etc/apt/sources.list.d/docker.list > /dev/null\n",
    "sudo apt-get -qq update\n",
    "sudo apt-get -qq install -y docker-ce\n",
    "echo 'Port 20022' | sudo tee -a /etc/ssh/sshd_config\n",
    "sudo systemctl restart sshd\n",
    "\"\"\"\n",
    "\n",
    "cgroupv2tov1 = \"\"\"\n",
    "#!/bin/bash\n",
    "\n",
    "set -o errexit\n",
    "cgroups=${VCP_CGROUPS:-\"v1\"}\n",
    "if [[ \"$cgroups\" == \"v2\" ]]; then\n",
    "    exit 0\n",
    "fi\n",
    "if [[ \"$(stat -fc %T /sys/fs/cgroup/)\" == \"tmpfs\" ]]; then\n",
    "    exit 0\n",
    "fi\n",
    "GRUB_FILE=\"/etc/default/grub\"\n",
    "PARAM=\"systemd.unified_cgroup_hierarchy\"\n",
    "PARAM_CGROUP=\"0\"\n",
    "current_GRUB_CMDLINE_LINUX=$(grep \"GRUB_CMDLINE_LINUX\" $GRUB_FILE | sed -n 's/GRUB_CMDLINE_LINUX=//p' | sed 's/^.*\"\\(.*\\)\".*$/\\1/')\n",
    "\n",
    "if grep -q \"$PARAM\" \"$GRUB_FILE\"; then\n",
    "    if grep -q \"$PARAM=$PARAM_CGROUP\" \"$GRUB_FILE\"; then\n",
    "        echo \"Already cgroupv1\"\n",
    "    else\n",
    "        echo \"Option defined but not cgroupv1\"\n",
    "        sed -i \"s/GRUB_CMDLINE_LINUX.*/GRUB_CMDLINE_LINUX=\\\"$PARAM=$PARAM_CGROUP\\\"/\" $GRUB_FILE\n",
    "    fi\n",
    "else\n",
    "    if [ ${#current_GRUB_CMDLINE_LINUX} -eq 0 ]; then\n",
    "        cgroupv1_GRUB_CMDLINE_LINUX=\"$current_GRUB_CMDLINE_LINUX $PARAM=$PARAM_CGROUP\"\n",
    "    else\n",
    "        cgroupv1_GRUB_CMDLINE_LINUX=\"$PARAM=$PARAM_CGROUP\"\n",
    "    fi\n",
    "    cgroupv1_GRUB_CMDLINE_LINUX=$(echo \"$cgroupv1_GRUB_CMDLINE_LINUX\" | sed 's/^ *//')\n",
    "    cgroupv1_GRUB_CMDLINE_LINUX=\"\\\"$cgroupv1_GRUB_CMDLINE_LINUX\\\"\"\n",
    "    sed -i \"s/GRUB_CMDLINE_LINUX.*/GRUB_CMDLINE_LINUX=$cgroupv1_GRUB_CMDLINE_LINUX/\" $GRUB_FILE\n",
    "fi\n",
    "\n",
    "echo $(cat $GRUB_FILE)\n",
    "\n",
    "update-grub\n",
    "shutdown --reboot now\n",
    "\"\"\"\n",
    "\n",
    "def exec_ssh(host, user, cmd, ssh_key, port=22, ssh_opt: list = None, timeout=30):\n",
    "    _ssh_opt = [\"StrictHostKeyChecking=no\", \"UserKnownHostsFile=/dev/null\"]\n",
    "    if ssh_opt:\n",
    "        _ssh_opt.extend(ssh_opt)\n",
    "    _ssh_opt_cmd = list()\n",
    "    for o in _ssh_opt:\n",
    "        _ssh_opt_cmd.append('-o')\n",
    "        _ssh_opt_cmd.append(o)\n",
    "    result = subprocess.run(['ssh', *_ssh_opt_cmd, '-p', str(port), '-i', os.path.expanduser(ssh_key),\n",
    "                             f'{user}@{host}', cmd], capture_output=True, timeout=timeout)\n",
    "    return result\n",
    "\n",
    "def exec_scp(host, user, local_path, remote_path, ssh_key, port=22, ssh_opt: list = None, timeout=30):\n",
    "    _ssh_opt = [\"StrictHostKeyChecking=no\", \"UserKnownHostsFile=/dev/null\"]\n",
    "    if ssh_opt:\n",
    "        _ssh_opt.extend(ssh_opt)\n",
    "    _ssh_opt_cmd = list()\n",
    "    for o in _ssh_opt:\n",
    "        _ssh_opt_cmd.append('-o')\n",
    "        _ssh_opt_cmd.append(o)\n",
    "    result = subprocess.run(['scp', *_ssh_opt_cmd, '-P', str(port), '-i', os.path.expanduser(ssh_key),\n",
    "                             local_path, f'{user}@{host}:{remote_path}'], capture_output=True, timeout=timeout)\n",
    "    return result\n",
    "\n",
    "def get_hostname(host, user, ssh_key='~/.ssh/id_ed25519', port=22, ssh_opt=None, timeout=30):\n",
    "    cmd = \"sudo hostname\"\n",
    "    return [exec_ssh(host, user, cmd, ssh_key, port, ssh_opt, timeout).stdout.decode('utf-8')]\n",
    "\n",
    "def set_hostname(host, user, hostname, ssh_key='~/.ssh/id_ed25519', port=22, ssh_opt=None, timeout=30):\n",
    "    cmd = f\"sudo hostnamectl set-hostname {hostname}\"\n",
    "    res = exec_ssh(host, user, cmd, ssh_key, port, ssh_opt, timeout)\n",
    "    return [res.stdout.decode('utf-8')]\n",
    "\n",
    "def register_pubkey(host, user, pubkey, ssh_key='~/.ssh/id_ed25519', port=22, ssh_opt=None, timeout=30):\n",
    "    cmd = f\"echo {pubkey} >> ~/.ssh/authorized_keys\"\n",
    "    return [exec_ssh(host, user, cmd, ssh_key, port, ssh_opt, timeout).stdout.decode('utf-8')]\n",
    "\n",
    "def fix_ipaddr(host, user, ip_addr, ssh_key='~/.ssh/id_ed25519', port=22, ssh_opt=None, timeout=30):\n",
    "    remote_script = \"/home/mdxuser/mdx_change_addr.sh\"\n",
    "    with tempfile.NamedTemporaryFile(\"w\", delete=False) as tmp:\n",
    "        tmp.write(mdx_change_addr_script)\n",
    "    try:\n",
    "        res_scp = exec_scp(host, user, tmp.name, remote_script, ssh_key, port, ssh_opt)\n",
    "        res_ssh = exec_ssh(host, user, f\"chmod +x {remote_script} && sudo bash {remote_script} {ip_addr}\", ssh_key, port, ssh_opt, timeout)\n",
    "    finally:\n",
    "        os.remove(tmp.name)\n",
    "    return [res_scp.stdout.decode('utf-8'), res_ssh.stdout.decode('utf-8')]\n",
    "\n",
    "def setup_for_vcnode(host, user, ssh_key='~/.ssh/id_ed25519', port=22, ssh_opt=None, timeout=60):\n",
    "    remote_script = \"/home/mdxuser/vcnode_setup_script.sh\"\n",
    "    with tempfile.NamedTemporaryFile(\"w\", delete=False) as tmp:\n",
    "        tmp.write(vcnode_setup_script)\n",
    "    try:\n",
    "        res_scp = exec_scp(host, user, tmp.name, remote_script, ssh_key, port, ssh_opt)\n",
    "        res_ssh = exec_ssh(host, user, f\"chmod +x {remote_script} && sudo bash {remote_script}\", ssh_key, port, ssh_opt, timeout)\n",
    "    finally:\n",
    "        os.remove(tmp.name)\n",
    "    return [res_scp.stdout.decode('utf-8'), res_ssh.stdout.decode('utf-8')]\n",
    "\n",
    "def cgroup_v2tov1(host, user, ssh_key='~/.ssh/id_ed25519', port=22, ssh_opt=None, timeout=60):\n",
    "    remote_script = \"/home/mdxuser/cgroupv2tov1.sh\"\n",
    "    with tempfile.NamedTemporaryFile(\"w\", delete=False) as tmp:\n",
    "        tmp.write(cgroupv2tov1)\n",
    "    try:\n",
    "        res_scp = exec_scp(host, user, tmp.name, remote_script, ssh_key, port, ssh_opt)\n",
    "        res_ssh = exec_ssh(host, user, f\"chmod +x {remote_script} && sudo bash {remote_script}\", ssh_key, port, ssh_opt, timeout)\n",
    "    finally:\n",
    "        os.remove(tmp.name)\n",
    "    return [res_scp.stdout.decode('utf-8'), res_ssh.stdout.decode('utf-8')]\n"
   ]
  },
  {
   "cell_type": "markdown",
   "metadata": {},
   "source": [
    "定義したセットアップスクリプトを利用して、デプロイした仮想マシンをセットアップします。"
   ]
  },
  {
   "cell_type": "code",
   "execution_count": null,
   "metadata": {},
   "outputs": [],
   "source": [
    "for vm_info in vm_infos:\n",
    "    ip_addr = vm_info[\"service_networks\"][0][\"ipv4_address\"][0]\n",
    "    ssh_key='~/.ssh/id_ed25519'\n",
    "    username=\"mdxuser\"\n",
    "    try:\n",
    "        mdx.set_first_password(ip_addr, mdx_user_password, ssh_key=ssh_key, username=username)\n",
    "    except Exception:\n",
    "        # 既に設定済みとして扱う\n",
    "        pass\n",
    "    print(set_hostname(ip_addr, username, vm_info['name'], ssh_key=ssh_key))\n",
    "    print(register_pubkey(ip_addr, username, sdk_pubkey, ssh_key=ssh_key))\n",
    "    print(fix_ipaddr(ip_addr, username, ip_addr, ssh_key=ssh_key))\n",
    "    print(setup_for_vcnode(ip_addr, username, ssh_key=ssh_key))\n",
    "    print(cgroup_v2tov1(ip_addr, username, ssh_key=ssh_key, port=20022))\n"
   ]
  },
  {
   "cell_type": "code",
   "execution_count": null,
   "metadata": {},
   "outputs": [],
   "source": [
    "import time\n",
    "# cgroupの変更のためのシャットダウンが実行されるまでラグがあるため待機する\n",
    "time.sleep(60)\n",
    "# sshアクセス可能になるまで待機する\n",
    "hostname = get_hostname(ip_addr, username, ssh_key=ssh_key, port=20022, timeout=600)[0]\n",
    "if not hostname:\n",
    "    hostname = get_hostname(ip_addr, username, ssh_key=ssh_key, port=20022, timeout=600)[0]\n",
    "print(hostname)"
   ]
  }
 ],
 "metadata": {
  "kernelspec": {
   "display_name": "Python 3",
   "language": "python",
   "name": "python3"
  },
  "language_info": {
   "file_extension": ".py",
   "mimetype": "text/x-python",
   "name": "python",
   "nbconvert_exporter": "python",
   "pygments_lexer": "ipython3",
   "version": "3.8.6"
  },
  "toc": {
   "base_numbering": 1,
   "nav_menu": {},
   "number_sections": true,
   "sideBar": true,
   "skip_h1_title": true,
   "title_cell": "Table of Contents",
   "title_sidebar": "Contents",
   "toc_cell": false,
   "toc_position": {},
   "toc_section_display": true,
   "toc_window_display": true
  }
 },
 "nbformat": 4,
 "nbformat_minor": 4
}
