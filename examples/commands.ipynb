{
 "cells": [
  {
   "cell_type": "markdown",
   "metadata": {
    "lc_cell_meme": {
     "current": "14d34282-ac0e-11ec-a2a8-005056b02367-3-c993-a671-dc85",
     "next": "32e9d710-adc9-11ec-9d19-005056b02673-2-2b18-8cd2",
     "previous": null
    }
   },
   "source": [
    "# mdx REST Client for Python コマンド一覧\n",
    "\n",
    "この Notebook では、mdx REST API にアクセスするためのPythonクライアントライブラリで利用できる操作の一覧を掲載しています。"
   ]
  },
  {
   "cell_type": "markdown",
   "metadata": {
    "lc_cell_meme": {
     "current": "32e9d710-adc9-11ec-9d19-005056b02673-2-2b18-8cd2",
     "next": "c1f75fb8-adc9-11ec-9d19-005056b02673-2-c117-3f2f",
     "previous": "14d34282-ac0e-11ec-a2a8-005056b02367-3-c993-a671-dc85"
    }
   },
   "source": [
    "## 準備\n",
    "\n",
    "1. mdx REST API 認証トークン設定\n",
    "2. mdx VM にSSHログインするためのキーペア作成\n",
    "3. mdx の REST API エンドポイントに接続できることの確認"
   ]
  },
  {
   "cell_type": "markdown",
   "metadata": {},
   "source": [
    "### 利用するライブラリの読込"
   ]
  },
  {
   "cell_type": "code",
   "execution_count": null,
   "metadata": {},
   "outputs": [],
   "source": [
    "# mdx_{ext,lib}.py ファイルのパスを取得\n",
    "import os\n",
    "import sys\n",
    "import json\n",
    "\n",
    "mdx_lib_path = os.path.join(os.path.dirname(os.path.abspath('__file__')), '../src')\n",
    "\n",
    "# モジュール検索パスを追加\n",
    "if mdx_lib_path not in sys.path:\n",
    "    sys.path.append(mdx_lib_path)\n",
    "\n",
    "from mdx_ext import MdxResourceExt\n",
    "\n",
    "def use_ipv4_only():\n",
    "    import socket\n",
    "    old_getaddrinfo = socket.getaddrinfo\n",
    "    def new_getaddrinfo(*args, **kwargs):\n",
    "        responses = old_getaddrinfo(*args, **kwargs)\n",
    "        return [response\n",
    "                for response in responses\n",
    "                if response[0] == socket.AF_INET]\n",
    "    socket.getaddrinfo = new_getaddrinfo\n",
    "\n",
    "use_ipv4_only()"
   ]
  },
  {
   "cell_type": "markdown",
   "metadata": {
    "lc_cell_meme": {
     "current": "c1f75fb8-adc9-11ec-9d19-005056b02673-2-c117-3f2f",
     "next": "c1f76346-adc9-11ec-9d19-005056b02673-2-fca5-32b7",
     "previous": "32e9d710-adc9-11ec-9d19-005056b02673-2-2b18-8cd2"
    }
   },
   "source": [
    "### mdx REST API 認証トークン設定\n",
    "\n",
    "- mdx REST API 認証トークンは、[mdxユーザポータル](https://oprpl.mdx.jp/) の「トークン発行」により取得する。\n",
    "  * 「トークン発行」は、ユーザポータル画面右上にあるユーザ名をクリックすると表示される。"
   ]
  },
  {
   "cell_type": "code",
   "execution_count": null,
   "metadata": {
    "lc_cell_meme": {
     "current": "c1f76346-adc9-11ec-9d19-005056b02673-2-fca5-32b7",
     "next": "0a10b70e-adca-11ec-9d19-005056b02673-2-549c-1d2c",
     "previous": "c1f75fb8-adc9-11ec-9d19-005056b02673-2-c117-3f2f"
    },
    "lc_wrapper": {}
   },
   "outputs": [],
   "source": [
    "# mdx REST API 認証トークン設定\n",
    "from getpass import getpass\n",
    "mdx_token = getpass()"
   ]
  },
  {
   "cell_type": "markdown",
   "metadata": {},
   "source": [
    "### インスタンスの初期化"
   ]
  },
  {
   "cell_type": "code",
   "execution_count": null,
   "metadata": {},
   "outputs": [],
   "source": [
    "mdx = MdxResourceExt(mdx_token)"
   ]
  },
  {
   "cell_type": "markdown",
   "metadata": {
    "lc_cell_meme": {
     "current": "0a10ba6a-adca-11ec-9d19-005056b02673-2-fa5b-4fab",
     "next": "78c8efd0-1621-11ed-8151-005056b02cbe",
     "previous": "c1f76652-adc9-11ec-9d19-005056b02673-2-a957-06bb"
    }
   },
   "source": [
    "### mdx REST API エンドポイント接続確認\n",
    "\n",
    "- HTTPステータスコード 200 が返ることを確認する。"
   ]
  },
  {
   "cell_type": "code",
   "execution_count": null,
   "metadata": {
    "lc_cell_meme": {
     "current": "78c8efd0-1621-11ed-8151-005056b02cbe",
     "next": "0a10bd80-adca-11ec-9d19-005056b02673-2-1434-9737",
     "previous": "0a10ba6a-adca-11ec-9d19-005056b02673-2-fa5b-4fab"
    },
    "lc_wrapper": {}
   },
   "outputs": [],
   "source": [
    "# デフォルトのresolverがIPv6のアドレスを返すことにより以降のAPIで接続不可の場合があるため、以下のコードを実行しておく。\n",
    "def use_ipv4_only():\n",
    "    import socket\n",
    "    old_getaddrinfo = socket.getaddrinfo\n",
    "    def new_getaddrinfo(*args, **kwargs):\n",
    "        responses = old_getaddrinfo(*args, **kwargs)\n",
    "        return [response\n",
    "                for response in responses\n",
    "                if response[0] == socket.AF_INET]\n",
    "    socket.getaddrinfo = new_getaddrinfo\n",
    "\n",
    "use_ipv4_only()"
   ]
  },
  {
   "cell_type": "code",
   "execution_count": null,
   "metadata": {
    "lc_cell_meme": {
     "current": "0a10bd80-adca-11ec-9d19-005056b02673-2-1434-9737",
     "next": "864f5bca-1636-11ed-8151-005056b02cbe",
     "previous": "78c8efd0-1621-11ed-8151-005056b02cbe"
    },
    "lc_wrapper": {}
   },
   "outputs": [],
   "source": [
    "!curl https://oprpl.mdx.jp -w '%{http_code}\\n' -o /dev/null -s"
   ]
  },
  {
   "cell_type": "markdown",
   "metadata": {},
   "source": [
    "## プロジェクト関連\n",
    "\n",
    "プロジェクト情報に関するライブラリ一覧"
   ]
  },
  {
   "cell_type": "markdown",
   "metadata": {},
   "source": [
    "### プロジェクト情報取得  \n",
    "\n",
    "自身が所属しているプロジェクトの情報一覧を取得します。"
   ]
  },
  {
   "cell_type": "code",
   "execution_count": null,
   "metadata": {},
   "outputs": [],
   "source": [
    "import json\n",
    "r = mdx.get_assigned_projects()\n",
    "print(json.dumps(r[0][\"projects\"], indent=2))"
   ]
  },
  {
   "cell_type": "markdown",
   "metadata": {},
   "source": [
    "### 操作対象プロジェクト指定  \n",
    "\n",
    "ライブラリの多くはプロジェクトを指定した操作を行うものです。  \n",
    "ライブラリを利用する際は、事前準備として、以下の関数で対象のライブラリを指定しておきます。"
   ]
  },
  {
   "cell_type": "code",
   "execution_count": null,
   "metadata": {},
   "outputs": [],
   "source": [
    "project_name = \n",
    "mdx.set_current_project_by_name(project_name)"
   ]
  },
  {
   "cell_type": "markdown",
   "metadata": {},
   "source": [
    "### プロジェクト指定の確認\n",
    "\n",
    "操作対象プロジェクト指定で指定したプロジェクトの確認を行います。  "
   ]
  },
  {
   "cell_type": "code",
   "execution_count": null,
   "metadata": {},
   "outputs": [],
   "source": [
    "r = mdx.get_current_project()\n",
    "print(json.dumps(r, indent=2))"
   ]
  },
  {
   "cell_type": "markdown",
   "metadata": {},
   "source": [
    "### プロジェクト操作履歴の取得"
   ]
  },
  {
   "cell_type": "code",
   "execution_count": null,
   "metadata": {},
   "outputs": [],
   "source": [
    "r = mdx.get_project_history()\n",
    "print(json.dumps(r, indent=2))"
   ]
  },
  {
   "cell_type": "markdown",
   "metadata": {},
   "source": [
    "## ネットワーク関連"
   ]
  },
  {
   "cell_type": "markdown",
   "metadata": {},
   "source": [
    "### ネットワークセグメント一覧情報取得  \n",
    "プロジェクトで利用可能なネットワークセグメント一覧情報を取得します。"
   ]
  },
  {
   "cell_type": "code",
   "execution_count": null,
   "metadata": {},
   "outputs": [],
   "source": [
    "r = mdx.get_segments()\n",
    "print(json.dumps(r, indent=2, ensure_ascii=False))"
   ]
  },
  {
   "cell_type": "markdown",
   "metadata": {},
   "source": [
    "### ネットワークセグメントサマリ情報取得  \n",
    "\n",
    "セグメントIDを指定し、そのネットワークセグメントの詳細情報を取得します。"
   ]
  },
  {
   "cell_type": "code",
   "execution_count": null,
   "metadata": {},
   "outputs": [],
   "source": [
    "# segment_id = ''\n",
    "r = mdx.get_segment_summary(segment_id)\n",
    "print(json.dumps(r, indent=2, ensure_ascii=False))"
   ]
  },
  {
   "cell_type": "markdown",
   "metadata": {},
   "source": [
    "### ACLリスト取得(IPv4)  \n",
    "\n",
    "セグメントIDを指定し、許可済みのACLリストを取得します。"
   ]
  },
  {
   "cell_type": "code",
   "execution_count": null,
   "metadata": {},
   "outputs": [],
   "source": [
    "# segment_id = ''\n",
    "r = mdx.get_allow_acl_ipv4_info(segment_id)\n",
    "print(json.dumps(r, indent=2, ensure_ascii=False))"
   ]
  },
  {
   "cell_type": "markdown",
   "metadata": {},
   "source": [
    "### ACLリスト追加(IPv4)  \n",
    "\n",
    "ACL情報を追加します。"
   ]
  },
  {
   "cell_type": "code",
   "execution_count": null,
   "metadata": {},
   "outputs": [],
   "source": [
    "# acl_ipv4_spec = {\n",
    "#             \"segment\": ネットワークセグメントID\n",
    "#             \"src_address\": Src IPv4アドレス\n",
    "#             \"src_mask\": Srcマスク\n",
    "#             \"src_port\": Srcポート\n",
    "#             \"dst_address\": Dst IPv4アドレス\n",
    "#             \"dst_mask\": Dstマスクの文字列表現\n",
    "#             \"dst_port\": Dstポートの文字列表現\n",
    "#             \"protocol\": プロトコル \"ICMP\" \"TCP\" \"UDP\" のいずれか\n",
    "#         }\n",
    "\n",
    "mdx.add_allow_acl_ipv4_info(acl_ipv4_spec)"
   ]
  },
  {
   "cell_type": "markdown",
   "metadata": {},
   "source": [
    "### ACL情報削除  \n",
    "\n",
    "指定したACL情報を削除します。"
   ]
  },
  {
   "cell_type": "code",
   "execution_count": null,
   "metadata": {},
   "outputs": [],
   "source": [
    "# acl_ipv4_id = ''\n",
    "mdx.delete_allow_acl_ipv4_info(acl_ipv4_id)"
   ]
  },
  {
   "cell_type": "markdown",
   "metadata": {},
   "source": [
    "### 未使用グローバルIPアドレスリスト取得\n",
    "\n",
    "DNAT設定で紐づけされていない、未使用のグローバルIPアドレス一覧を取得します。"
   ]
  },
  {
   "cell_type": "code",
   "execution_count": null,
   "metadata": {},
   "outputs": [],
   "source": [
    "r = mdx.get_assignable_global_ipv4()\n",
    "print(json.dumps(r, indent=2, ensure_ascii=False))"
   ]
  },
  {
   "cell_type": "markdown",
   "metadata": {},
   "source": [
    "### プロジェクトに属するDNAT情報の取得  "
   ]
  },
  {
   "cell_type": "code",
   "execution_count": null,
   "metadata": {},
   "outputs": [],
   "source": [
    "r = mdx.get_dnat()\n",
    "print(json.dumps(r, indent=2, ensure_ascii=False))"
   ]
  },
  {
   "cell_type": "markdown",
   "metadata": {},
   "source": [
    "### 指定したセグメントへのDNAT追加"
   ]
  },
  {
   "cell_type": "code",
   "execution_count": null,
   "metadata": {},
   "outputs": [],
   "source": [
    "# dnat_spec = {\n",
    "#                 \"pool_address\": 転送元グローバルIPv4アドレス。プロジェクトの未使用グローバルIPアドレスを指定する。\n",
    "#                 \"segment\": ネットワークセグメントID\n",
    "#                 \"dst_address\": 転送先プライベートIPアドレス。セグメントIPアドレス範囲内のIPアドレスを指定する。\n",
    "#             }\n",
    "mdx.add_dnat(dnat_spec)"
   ]
  },
  {
   "cell_type": "markdown",
   "metadata": {},
   "source": [
    "### DNAT情報の編集"
   ]
  },
  {
   "cell_type": "code",
   "execution_count": null,
   "metadata": {},
   "outputs": [],
   "source": [
    "# dnat_id = ''\n",
    "# dnat_spec = {\n",
    "#                 \"pool_address\": 転送元グローバルIPv4アドレス。プロジェクトの未使用グローバルIPアドレスを指定する。\n",
    "#                 \"segment\": ネットワークセグメントID\n",
    "#                 \"dst_address\": 転送先プライベートIPアドレス。セグメントIPアドレス範囲内のIPアドレスを指定する。\n",
    "#             }\n",
    "mdx.edit_dnat(dnat_id, dnat_spec)"
   ]
  },
  {
   "cell_type": "markdown",
   "metadata": {},
   "source": [
    "### DNAT情報の削除"
   ]
  },
  {
   "cell_type": "code",
   "execution_count": null,
   "metadata": {},
   "outputs": [],
   "source": [
    "# dnat_id = ''\n",
    "mdx.delete_dnat(dnat_id)"
   ]
  },
  {
   "cell_type": "markdown",
   "metadata": {},
   "source": [
    "## 仮想マシン関連\n",
    "\n",
    "仮想マシンのデプロイ等に関するライブラリ一覧"
   ]
  },
  {
   "cell_type": "markdown",
   "metadata": {},
   "source": [
    "### 仮想マシンデプロイカタログ取得"
   ]
  },
  {
   "cell_type": "code",
   "execution_count": null,
   "metadata": {},
   "outputs": [],
   "source": [
    "import json\n",
    "\n",
    "r = mdx.get_vm_catalogs()\n",
    "print(json.dumps(r['results'], indent=2))"
   ]
  },
  {
   "cell_type": "markdown",
   "metadata": {},
   "source": [
    "### 仮想マシンデプロイ"
   ]
  },
  {
   "cell_type": "markdown",
   "metadata": {},
   "source": [
    "SSHログインに利用するために、仮想マシンデプロイ時に登録する公開鍵を指定します。"
   ]
  },
  {
   "cell_type": "code",
   "execution_count": null,
   "metadata": {},
   "outputs": [],
   "source": [
    "ssh_public_key_path = \"~/.ssh/id_ed25519.pub\"\n",
    "with open(os.path.expanduser(ssh_public_key_path)) as f:\n",
    "    ssh_shared_key = f.read()"
   ]
  },
  {
   "cell_type": "markdown",
   "metadata": {},
   "source": [
    "- 以下の例では、仮想マシンテンプレートとして「推奨版、東京大学制作、20220412-2043版」を使用する。\n",
    "  * 利用可能な仮想マシンテンプレートの一覧は、 `get_vm_catalogs()` により確認できる。\n",
    "- [ハードウェアのカスタマイズ項目](https://docs.mdx.jp/ja/main/create_vm.html#deploy-settings)は、以下の内容で設定する。\n",
    "  * 仮想マシン名: `\"rest-client-example_0001\"` **（プロジェクト内で重複しないこと）**\n",
    "  * パックタイプ: `\"cpu\"`\n",
    "  * パック数: `3` **（「推奨版、東京大学制作、20220412-2043版」の下限が3となっている）**\n",
    "  * 仮想ディスク(GB): `40` **（「推奨版、東京大学制作、20220412-2043版」の下限が40となっている）**\n",
    "  * ストレージネットワーク: `\"portgroup\"`\n",
    "  * サービスレベル (スポット仮想マシン `spot` または起動保証仮想マシン `guarantee`) : `\"spot\"`\n",
    "  * ネットワークセグメントID: `get_segments()`で確認したネットワークセグメント一覧から対象のセグメントのIDを確認し、指定する。\n",
    "  * ssh_shared_key: 対象のVMへのSSHログインで使用する公開鍵を指定する。\n",
    "- 戻り値\n",
    "  * 起動したVMの情報（付与されたプライベートIPアドレス等）"
   ]
  },
  {
   "cell_type": "code",
   "execution_count": null,
   "metadata": {},
   "outputs": [],
   "source": [
    "DEFAULT_CATALOG = \"16a41081-a1cf-428e-90d0-a147b3aa6fc2\"\n",
    "DEFAULT_TEMPLATE_NAME = \"UT-20220412-2043-ubuntu-2004-server\"\n",
    "\n",
    "vm_name = \"rest-client-example_0001\"\n",
    "\n",
    "mdx_spec = dict(\n",
    "    catalog=DEFAULT_CATALOG,\n",
    "    template_name=DEFAULT_TEMPLATE_NAME,\n",
    "    pack_num=3,\n",
    "    pack_type=\"cpu\",\n",
    "    disk_size=40,\n",
    "    gpu=\"0\",\n",
    "    network_adapters=[\n",
    "        dict(\n",
    "            adapter_number=1,\n",
    "            segment=segment_id\n",
    "        )\n",
    "    ],\n",
    "    shared_key=ssh_shared_key,\n",
    "    storage_network=\"portgroup\",\n",
    "    service_level=\"spot\",\n",
    ")\n",
    "\n",
    "info = mdx.deploy_vm(vm_name, mdx_spec)\n",
    "\n",
    "print(json.dumps(info, indent=2))"
   ]
  },
  {
   "cell_type": "markdown",
   "metadata": {},
   "source": [
    "### 仮想マシン一覧取得  \n",
    "デプロイ済みの仮想マシン一覧を取得します。"
   ]
  },
  {
   "cell_type": "code",
   "execution_count": null,
   "metadata": {},
   "outputs": [],
   "source": [
    "r = mdx.get_vm_list()\n",
    "print(json.dumps(r, indent=2, ensure_ascii=False))"
   ]
  },
  {
   "cell_type": "markdown",
   "metadata": {},
   "source": [
    "### 仮想マシン情報取得  \n",
    "仮想マシン名で対象を指定します。"
   ]
  },
  {
   "cell_type": "code",
   "execution_count": null,
   "metadata": {},
   "outputs": [],
   "source": [
    "r = mdx.get_vm_info(\"rest-client-example_0001\")\n",
    "print(json.dumps(r, indent=2, ensure_ascii=False))"
   ]
  },
  {
   "cell_type": "markdown",
   "metadata": {},
   "source": [
    "### 仮想マシンの再起動  \n",
    "仮想マシン名で対象を指定します。"
   ]
  },
  {
   "cell_type": "code",
   "execution_count": null,
   "metadata": {},
   "outputs": [],
   "source": [
    "mdx.reboot_vm(vm_name, wait_for=True)"
   ]
  },
  {
   "cell_type": "markdown",
   "metadata": {
    "lc_cell_meme": {
     "current": "4930d5a6-1470-11ed-8151-005056b02cbe",
     "next": "092f97da-1475-11ed-8151-005056b02cbe",
     "previous": "4435dbea-162e-11ed-8151-005056b02cbe"
    }
   },
   "source": [
    "### 仮想マシンのシャットダウン  \n",
    "仮想マシン名で対象を指定します。"
   ]
  },
  {
   "cell_type": "code",
   "execution_count": null,
   "metadata": {
    "lc_cell_meme": {
     "current": "092f97da-1475-11ed-8151-005056b02cbe",
     "next": "90b8af7a-1470-11ed-8151-005056b02cbe",
     "previous": "4930d5a6-1470-11ed-8151-005056b02cbe"
    },
    "lc_wrapper": {}
   },
   "outputs": [],
   "source": [
    "mdx.power_shutdown_vm(vm_name, wait_for=True)"
   ]
  },
  {
   "cell_type": "markdown",
   "metadata": {},
   "source": [
    "### 仮想マシンの強制停止  \n",
    "仮想マシン名で対象を指定します。"
   ]
  },
  {
   "cell_type": "code",
   "execution_count": null,
   "metadata": {},
   "outputs": [],
   "source": [
    "mdx.power_off_vm(vm_name, wait_for=True)"
   ]
  },
  {
   "cell_type": "markdown",
   "metadata": {},
   "source": [
    "### 仮想マシンの起動  \n",
    "仮想マシン名で対象を指定します。"
   ]
  },
  {
   "cell_type": "code",
   "execution_count": null,
   "metadata": {},
   "outputs": [],
   "source": [
    "mdx.power_on_vm(vm_name, service_level=\"spot\", wait_for=True)"
   ]
  },
  {
   "cell_type": "markdown",
   "metadata": {
    "lc_cell_meme": {
     "current": "90b8af7a-1470-11ed-8151-005056b02cbe",
     "next": "50b7d9f0-1475-11ed-8151-005056b02cbe",
     "previous": "092f97da-1475-11ed-8151-005056b02cbe"
    }
   },
   "source": [
    "### 仮想マシンの削除  \n",
    "仮想マシン名で対象を指定します。  \n",
    "仮想マシンが稼働状態では実行できません。仮想マシンを停止してから実行してください。"
   ]
  },
  {
   "cell_type": "code",
   "execution_count": null,
   "metadata": {
    "lc_cell_meme": {
     "current": "50b7d9f0-1475-11ed-8151-005056b02cbe",
     "next": "9704c27a-162c-11ed-8151-005056b02cbe",
     "previous": "90b8af7a-1470-11ed-8151-005056b02cbe"
    },
    "lc_wrapper": {}
   },
   "outputs": [],
   "source": [
    "mdx.destroy_vm(vm_name, wait_for=True)"
   ]
  }
 ],
 "metadata": {
  "kernelspec": {
   "display_name": "Python 3",
   "language": "python",
   "name": "python3"
  },
  "language_info": {
   "codemirror_mode": {
    "name": "ipython",
    "version": 3
   },
   "file_extension": ".py",
   "mimetype": "text/x-python",
   "name": "python",
   "nbconvert_exporter": "python",
   "pygments_lexer": "ipython3",
   "version": "3.10.11"
  },
  "toc": {
   "base_numbering": 1,
   "nav_menu": {},
   "number_sections": true,
   "sideBar": true,
   "skip_h1_title": true,
   "title_cell": "Table of Contents",
   "title_sidebar": "Contents",
   "toc_cell": false,
   "toc_position": {},
   "toc_section_display": true,
   "toc_window_display": true
  }
 },
 "nbformat": 4,
 "nbformat_minor": 4
}
